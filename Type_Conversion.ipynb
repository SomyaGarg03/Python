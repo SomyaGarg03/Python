{
 "cells": [
  {
   "cell_type": "code",
   "execution_count": 1,
   "metadata": {},
   "outputs": [
    {
     "name": "stdout",
     "output_type": "stream",
     "text": [
      "<class 'float'>\n",
      "2.0\n"
     ]
    }
   ],
   "source": [
    "# 1 Convert a integer to a floatig-point number.\n",
    "\n",
    "num_int = 2\n",
    "num_float = float(num_int)     \n",
    "print(type(num_float))\n",
    "print(num_float)"
   ]
  },
  {
   "cell_type": "code",
   "execution_count": 5,
   "metadata": {},
   "outputs": [
    {
     "name": "stdout",
     "output_type": "stream",
     "text": [
      "<class 'int'>\n",
      "2\n"
     ]
    }
   ],
   "source": [
    "# 2  Convert a float to a integer.\n",
    "\n",
    "num_integer = int(2.12)\n",
    "print(type(num_integer))\n",
    "print(num_integer)"
   ]
  },
  {
   "cell_type": "code",
   "execution_count": 6,
   "metadata": {},
   "outputs": [
    {
     "name": "stdout",
     "output_type": "stream",
     "text": [
      "<class 'str'>\n",
      "8878797\n"
     ]
    }
   ],
   "source": [
    "# 3 Convert an integer to a String\n",
    "\n",
    "convert_string = str(8878797)\n",
    "print(type(convert_string))\n",
    "print(convert_string)\n",
    "\n"
   ]
  },
  {
   "cell_type": "code",
   "execution_count": 7,
   "metadata": {},
   "outputs": [
    {
     "name": "stdout",
     "output_type": "stream",
     "text": [
      "<class 'tuple'>\n",
      "(1, 2, 3, 'Somya', 'Garg')\n"
     ]
    }
   ],
   "source": [
    "# 4 Convert a list to tuple\n",
    "\n",
    "list1 = [1, 2, 3, \"Somya\", \"Garg\"]\n",
    "tuple1 = tuple(list1)\n",
    "print(type(tuple1))\n",
    "print(tuple1)\n"
   ]
  },
  {
   "cell_type": "code",
   "execution_count": 8,
   "metadata": {},
   "outputs": [
    {
     "name": "stdout",
     "output_type": "stream",
     "text": [
      "<class 'list'>\n",
      "[1, 2, 3, 'Somya', 'Garg']\n"
     ]
    }
   ],
   "source": [
    "# 5 Convert a tuple to a list\n",
    "\n",
    "tuple2 = (1, 2, 3, 'Somya', 'Garg')\n",
    "list2 = list(tuple2)\n",
    "print(type(list2))\n",
    "print(list2)"
   ]
  },
  {
   "cell_type": "code",
   "execution_count": 12,
   "metadata": {},
   "outputs": [
    {
     "name": "stdout",
     "output_type": "stream",
     "text": [
      "0b10\n"
     ]
    }
   ],
   "source": [
    "# 6 Convert a decimal number to binary\n",
    "\n",
    "decimal_num = 2\n",
    "convert_binary = bin(decimal_num)\n",
    "print(convert_binary)"
   ]
  },
  {
   "cell_type": "code",
   "execution_count": 13,
   "metadata": {},
   "outputs": [
    {
     "name": "stdout",
     "output_type": "stream",
     "text": [
      "<class 'bool'>\n",
      "True\n"
     ]
    }
   ],
   "source": [
    "#7 Convert a non zero number to boolean\n",
    "\n",
    "non_zero_number = 5\n",
    "\n",
    "bool_convert = bool(non_zero_number)\n",
    "print(type(bool_convert))\n",
    "print(bool_convert)"
   ]
  }
 ],
 "metadata": {
  "kernelspec": {
   "display_name": "base",
   "language": "python",
   "name": "python3"
  },
  "language_info": {
   "codemirror_mode": {
    "name": "ipython",
    "version": 3
   },
   "file_extension": ".py",
   "mimetype": "text/x-python",
   "name": "python",
   "nbconvert_exporter": "python",
   "pygments_lexer": "ipython3",
   "version": "3.11.5"
  }
 },
 "nbformat": 4,
 "nbformat_minor": 2
}

{
 "cells": [
  {
   "cell_type": "code",
   "execution_count": 2,
   "metadata": {},
   "outputs": [
    {
     "name": "stdout",
     "output_type": "stream",
     "text": [
      "1\n",
      "2\n",
      "3\n",
      "4\n",
      "5\n"
     ]
    }
   ],
   "source": [
    "# Print number from 1 to 5 using a while loop.\n",
    "# initialize i\n",
    "i = 1\n",
    "while i <= 5:  # while i <= 5\n",
    "    print(i)\n",
    "    i += 1     # increment i"
   ]
  },
  {
   "cell_type": "code",
   "execution_count": 3,
   "metadata": {},
   "outputs": [
    {
     "name": "stdout",
     "output_type": "stream",
     "text": [
      "sum of the numbers from 1 to 10 is: 55\n"
     ]
    }
   ],
   "source": [
    "# Calclate the sum of numbers from 1 to 10 using a while loop.\n",
    "sum = 0\n",
    "i = 1\n",
    "\n",
    "while i <= 10:\n",
    "    sum += i\n",
    "    i +=1\n",
    "\n",
    "print(\"sum of the numbers from 1 to 10 is:\", sum)\n"
   ]
  },
  {
   "cell_type": "code",
   "execution_count": 5,
   "metadata": {},
   "outputs": [
    {
     "name": "stdout",
     "output_type": "stream",
     "text": [
      "Factorial of 6 is 720\n"
     ]
    }
   ],
   "source": [
    "# 3 Calculate the factorial of a number using a for loop.\n",
    "\n",
    "factorial = 1\n",
    "\n",
    "number = int(input(\"Provide the number:\"))\n",
    "\n",
    "for i in range(number, 0, -1):\n",
    "    factorial = factorial * i\n",
    "\n",
    "print(\"Factorial of {} is {}\".format(number, factorial))"
   ]
  },
  {
   "cell_type": "code",
   "execution_count": 9,
   "metadata": {},
   "outputs": [
    {
     "name": "stdout",
     "output_type": "stream",
     "text": [
      "Number of vowels in \"My name is Somya Garg\" is 6\n"
     ]
    }
   ],
   "source": [
    "# 4. Count the number of vowels in a string using a for loop.\n",
    "\n",
    "string1 = input(\"Enter the string\")\n",
    "\n",
    "count = 0\n",
    "\n",
    "for each_string in string1:\n",
    "    if each_string in ('aeiou'):\n",
    "        count += 1\n",
    "\n",
    "\n",
    "print('Number of vowels in \"{}\" is {}'.format(string1, count))\n",
    "\n"
   ]
  },
  {
   "cell_type": "code",
   "execution_count": 7,
   "metadata": {},
   "outputs": [
    {
     "name": "stdout",
     "output_type": "stream",
     "text": [
      "[0]|[0] [0]|[0] [0]|[0] [0]|[0] [0]|[0] \n",
      "[1]|[1] [1]|[1] [1]|[1] [1]|[1] \n",
      "[2]|[2] [2]|[2] [2]|[2] \n",
      "[3]|[3] [3]|[3] \n",
      "[4]|[4] \n"
     ]
    }
   ],
   "source": [
    "# 5 Print a pattern using nested loop.\n",
    "\n",
    "for x in range(0, 5):\n",
    "    for y in range(x, 5):\n",
    "        print(\"[\" + str(x) + \"]\" + \"|\" + \"[\" + str(x) + \"] \", end = \"\")\n",
    "    print(\"\")\n"
   ]
  },
  {
   "cell_type": "code",
   "execution_count": 9,
   "metadata": {},
   "outputs": [
    {
     "name": "stdout",
     "output_type": "stream",
     "text": [
      "\n",
      "*\n",
      "***\n",
      "******\n",
      "**********\n"
     ]
    }
   ],
   "source": [
    "# 5 Print a pattern using nested loop.\n",
    "\n",
    "for x in range(0, 5):\n",
    "    for y in range(0, x+1):\n",
    "        print(\"*\" * y , end = \"\")\n",
    "    print(\"\")\n",
    "\n"
   ]
  },
  {
   "cell_type": "code",
   "execution_count": 19,
   "metadata": {},
   "outputs": [
    {
     "name": "stdout",
     "output_type": "stream",
     "text": [
      "2 * 1 = 2\n",
      "2 * 2 = 4\n",
      "2 * 3 = 6\n",
      "2 * 4 = 8\n",
      "2 * 5 = 10\n",
      "2 * 6 = 12\n",
      "2 * 7 = 14\n",
      "2 * 8 = 16\n",
      "2 * 9 = 18\n",
      "2 * 10 = 20\n",
      "\n"
     ]
    }
   ],
   "source": [
    "# Generate a multiplication table using nested loop.\n",
    "# Ask user to input the number\n",
    "\n",
    "number = int(input(\"Enter the number:\"))\n",
    "\n",
    "# Set the range for the multiplication table\n",
    "start_range = 1\n",
    "end_range = 10\n",
    "\n",
    "# Iterate through rows\n",
    "for i in range(number, number+1):\n",
    "    # Iterate through columns\n",
    "    for j in range(start_range, end_range + 1):\n",
    "        # Multiply i and j to get the value for the current cell\n",
    "        result = i * j\n",
    "        # Print the result with formatting\n",
    "        print(\"{} * {} = {}\".format(i, j, result) )\n",
    "    # Move to the next line after completing a row\n",
    "    print()\n"
   ]
  },
  {
   "cell_type": "code",
   "execution_count": null,
   "metadata": {},
   "outputs": [],
   "source": []
  }
 ],
 "metadata": {
  "kernelspec": {
   "display_name": "base",
   "language": "python",
   "name": "python3"
  },
  "language_info": {
   "codemirror_mode": {
    "name": "ipython",
    "version": 3
   },
   "file_extension": ".py",
   "mimetype": "text/x-python",
   "name": "python",
   "nbconvert_exporter": "python",
   "pygments_lexer": "ipython3",
   "version": "3.11.5"
  }
 },
 "nbformat": 4,
 "nbformat_minor": 2
}
